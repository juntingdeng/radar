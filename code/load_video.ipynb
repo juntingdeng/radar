{
 "cells": [
  {
   "cell_type": "code",
   "execution_count": null,
   "metadata": {},
   "outputs": [],
   "source": [
    "## Load video\n",
    "reader = imageio.get_reader(f'../rawData/cap{cap}/socket_cap{cap}.mp4', 'ffmpeg')\n",
    "fps = 30 # reader.get_meta_data()[\"fps\"]\n",
    "duration = 0.240*num_frames  #sec, radar duration #reader.get_meta_data()[\"duration\"]\n",
    "expected_frames = int(fps * duration)\n",
    "discard_frames = fps*60 # radar takes about 1 min to start \n",
    "print(f'fps:{fps}, duration:{duration}, expected_frames:{expected_frames}')\n",
    "frames = []\n",
    "for i, frame in enumerate(reader):\n",
    "    if i < discard_frames:\n",
    "        del frame\n",
    "    else:\n",
    "        frames.append(frame)"
   ]
  },
  {
   "cell_type": "code",
   "execution_count": null,
   "metadata": {},
   "outputs": [],
   "source": [
    "# Find the start start frame aligning with radar start time, downsample and save frames\n",
    "radar_duration = 5 # sec\n",
    "fps = 30\n",
    "start = 418\n",
    "frame_act = int(30*1)\n",
    "\n",
    "\n",
    "radar_frame_starttime = [i*round(0.24, 6) for i in range(num_frames)] # sec\n",
    "radar_frame_endtime = [i*0.24+num_chirps*(idle_time+ramp_end_time)*1e-6 for i in range(num_frames)] # sec\n",
    "radar_frame_starttime_to_rgb_nframe = [round(radar_frame_starttime[i]/(1/fps)) for i in range(num_frames)]\n",
    "radar_frame_time_to_rgb_nframe = [round((radar_frame_endtime[i]-radar_frame_starttime[i])/(1/fps)) for i in range(num_frames)]\n",
    "rgb_frame_save = [start + frame_strat + nframe for frame_strat, nframe in zip(radar_frame_starttime_to_rgb_nframe, radar_frame_time_to_rgb_nframe)]\n",
    "print('radar_frame_starttime_to_rgb_nframe', radar_frame_starttime_to_rgb_nframe)\n",
    "print('radar_frame_time_to_rgb_nframe', radar_frame_time_to_rgb_nframe)\n",
    "print('rgb_frame_save', rgb_frame_save)\n",
    "\n",
    "frame_nums = []\n",
    "for frame_i in rgb_frame_save:\n",
    "    im = Image.fromarray(frames[frame_i])\n",
    "    im.save(f'../rawData/cap{cap}/frames/frame_{frame_i}.png')\n",
    "    # im.show() # to find the start start frame aligning with radar start time,\n",
    "    # frame_nums.append(i)\n",
    "print(f'frame nums: len{frame_nums}')"
   ]
  }
 ],
 "metadata": {
  "kernelspec": {
   "display_name": "base",
   "language": "python",
   "name": "python3"
  },
  "language_info": {
   "name": "python",
   "version": "3.10.8"
  }
 },
 "nbformat": 4,
 "nbformat_minor": 2
}
