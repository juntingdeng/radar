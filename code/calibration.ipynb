{
 "cells": [
  {
   "cell_type": "code",
   "execution_count": 1,
   "id": "f9adfe74",
   "metadata": {},
   "outputs": [],
   "source": [
    "import sys\n",
    "import numpy as np\n",
    "import matplotlib.pyplot as plt\n",
    "import imageio\n",
    "from PIL import Image\n",
    "import cv2\n",
    "from matplotlib.backends.backend_agg import FigureCanvas\n",
    "import os\n",
    "from scipy.ndimage import convolve1d, convolve"
   ]
  },
  {
   "cell_type": "code",
   "execution_count": 19,
   "id": "787df0df",
   "metadata": {},
   "outputs": [],
   "source": [
    "## Load video\n",
    "reader = imageio.get_reader(f'../calibration2.mp4', 'ffmpeg')\n",
    "fps = 30 # reader.get_meta_data()[\"fps\"]\n",
    "frames = []\n",
    "for i, frame in enumerate(reader):\n",
    "    if i%15==0:\n",
    "        frames.append(frame)"
   ]
  },
  {
   "cell_type": "code",
   "execution_count": 18,
   "id": "744ca7db",
   "metadata": {},
   "outputs": [
    {
     "name": "stdout",
     "output_type": "stream",
     "text": [
      "(1080, 1920, 3)\n"
     ]
    }
   ],
   "source": [
    "print(frames[0].shape)"
   ]
  },
  {
   "cell_type": "code",
   "execution_count": 20,
   "id": "419ecf96",
   "metadata": {},
   "outputs": [
    {
     "name": "stdout",
     "output_type": "stream",
     "text": [
      "86\n"
     ]
    }
   ],
   "source": [
    "print(len(frames))\n",
    "for i in range(len(frames)):\n",
    "    im = Image.fromarray(frames[i])\n",
    "    im.save(f'../calibration2/{i}.png')"
   ]
  },
  {
   "cell_type": "code",
   "execution_count": 22,
   "id": "b51fc76c",
   "metadata": {},
   "outputs": [
    {
     "name": "stdout",
     "output_type": "stream",
     "text": [
      "['../calibration\\\\1.png', '../calibration\\\\2.png', '../calibration\\\\3.png', '../calibration\\\\4.png', '../calibration\\\\5.png', '../calibration\\\\6.png', '../calibration\\\\7.png', '../calibration\\\\8.png', '../calibration\\\\9.png', '../calibration\\\\10.png', '../calibration\\\\11.png', '../calibration\\\\12.png', '../calibration\\\\13.png', '../calibration\\\\14.png', '../calibration\\\\15.png', '../calibration\\\\16.png', '../calibration\\\\17.png', '../calibration\\\\18.png', '../calibration\\\\19.png', '../calibration\\\\20.png', '../calibration\\\\21.png', '../calibration\\\\22.png', '../calibration\\\\23.png', '../calibration\\\\24.png', '../calibration\\\\25.png', '../calibration\\\\26.png', '../calibration\\\\27.png', '../calibration\\\\28.png', '../calibration\\\\29.png', '../calibration\\\\30.png', '../calibration\\\\31.png', '../calibration\\\\32.png', '../calibration\\\\33.png', '../calibration\\\\34.png', '../calibration\\\\35.png', '../calibration\\\\36.png', '../calibration\\\\37.png', '../calibration\\\\38.png', '../calibration\\\\39.png', '../calibration\\\\40.png', '../calibration\\\\41.png', '../calibration\\\\42.png']\n",
      "Camera intrinsic matrix (K):\n",
      " [[664.56415003   0.         961.50698487]\n",
      " [  0.         667.63344917 533.49934159]\n",
      " [  0.           0.           1.        ]]\n",
      "Distortion coefficients:\n",
      " [[ 0.00696123 -0.04019425 -0.00022439  0.00349433  0.00795141]]\n"
     ]
    }
   ],
   "source": [
    "import cv2\n",
    "import numpy as np\n",
    "import glob\n",
    "\n",
    "# Size of checkerboard pattern (corners, not squares)\n",
    "checkerboard = (8, 6)\n",
    "\n",
    "objp = np.zeros((checkerboard[0]*checkerboard[1], 3), np.float32)\n",
    "objp[:, :2] = np.mgrid[0:checkerboard[0], 0:checkerboard[1]].T.reshape(-1, 2)\n",
    "\n",
    "objpoints = []  # 3D points\n",
    "imgpoints = []  # 2D image points\n",
    "\n",
    "images = glob.glob('../calibration/*.png')\n",
    "print(images)\n",
    "for fname in images:\n",
    "    img = cv2.imread(fname)\n",
    "    gray = cv2.cvtColor(img, cv2.COLOR_BGR2GRAY)\n",
    "\n",
    "    ret, corners = cv2.findChessboardCorners(gray, checkerboard, None)\n",
    "\n",
    "    if ret:\n",
    "        objpoints.append(objp)\n",
    "        imgpoints.append(corners)\n",
    "        cv2.drawChessboardCorners(img, checkerboard, corners, ret)\n",
    "        cv2.imshow('Corners', img)\n",
    "        cv2.waitKey(100)\n",
    "\n",
    "cv2.destroyAllWindows()\n",
    "\n",
    "ret, mtx, dist, rvecs, tvecs = cv2.calibrateCamera(objpoints, imgpoints, gray.shape[::-1], None, None)\n",
    "\n",
    "print(\"Camera intrinsic matrix (K):\\n\", mtx)\n",
    "print(\"Distortion coefficients:\\n\", dist)"
   ]
  }
 ],
 "metadata": {
  "kernelspec": {
   "display_name": "base",
   "language": "python",
   "name": "python3"
  },
  "language_info": {
   "codemirror_mode": {
    "name": "ipython",
    "version": 3
   },
   "file_extension": ".py",
   "mimetype": "text/x-python",
   "name": "python",
   "nbconvert_exporter": "python",
   "pygments_lexer": "ipython3",
   "version": "3.9.16"
  }
 },
 "nbformat": 4,
 "nbformat_minor": 5
}
